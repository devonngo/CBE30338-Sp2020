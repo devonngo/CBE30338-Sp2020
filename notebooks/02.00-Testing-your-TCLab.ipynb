{
 "cells": [
  {
   "cell_type": "markdown",
   "metadata": {},
   "source": [
    "# Testing your TCLab"
   ]
  },
  {
   "cell_type": "markdown",
   "metadata": {},
   "source": [
    "## TCLab Objects"
   ]
  },
  {
   "cell_type": "markdown",
   "metadata": {},
   "source": [
    "### 1. Testing the TCLab connection\n",
    "\n",
    "The following cell tests the serial connection to the TCLab hardware. The output of this cell will report:\n",
    "\n",
    "* version number of the tclab Python library\n",
    "* device port and speed of the serial connection\n",
    "* version number of the TCLab firmware"
   ]
  },
  {
   "cell_type": "code",
   "execution_count": 13,
   "metadata": {},
   "outputs": [
    {
     "name": "stdout",
     "output_type": "stream",
     "text": [
      "TCLab version 0.4.9\n",
      "Arduino Leonardo connected on port /dev/cu.usbmodem142101 at 115200 baud.\n",
      "TCLab Firmware 1.5.1 Arduino Leonardo/Micro.\n",
      "TCLab disconnected successfully.\n"
     ]
    }
   ],
   "source": [
    "from tclab import TCLab\n",
    "\n",
    "with TCLab() as lab:\n",
    "    pass"
   ]
  },
  {
   "cell_type": "markdown",
   "metadata": {},
   "source": [
    "### 2. Flash the TCLab LED\n",
    "\n",
    "The `lab.LED()` function provides a convenient tool for testing the connection to the TCLab hardware. To set the LED to Y% of maximum, use\n",
    "\n",
    "    lab.LED(Y)\n",
    "    \n",
    "The following code flashes the LED to 100% five times."
   ]
  },
  {
   "cell_type": "code",
   "execution_count": 26,
   "metadata": {},
   "outputs": [
    {
     "name": "stdout",
     "output_type": "stream",
     "text": [
      "TCLab version 0.4.9\n",
      "Arduino Leonardo connected on port /dev/cu.usbmodem142101 at 115200 baud.\n",
      "TCLab Firmware 1.5.1 Arduino Leonardo/Micro.\n",
      "TCLab disconnected successfully.\n"
     ]
    }
   ],
   "source": [
    "from tclab import TCLab\n",
    "import time\n",
    "\n",
    "tperiod = 0.5\n",
    "with TCLab() as lab:\n",
    "    for k in range(0, 5):        # repeat 5 times\n",
    "        lab.LED(100)             # LED set to 100%\n",
    "        time.sleep(tperiod/2)    # sleep for 50% of cycle time\n",
    "        lab.LED(0)               # LED set to 0%\n",
    "        time.sleep(tperiod/2)    # sleep for 50% of cycle time"
   ]
  },
  {
   "cell_type": "markdown",
   "metadata": {},
   "source": [
    "### 3. Read the temperature sensors\n",
    "\n",
    "The temperatures measured by the thermisters located on the TCLab are accessed with `lab.T1` and `lab.T2` where `lab` is a `TCLab` instance. The following cell will access and print the temperatures of the two thermisters."
   ]
  },
  {
   "cell_type": "code",
   "execution_count": 6,
   "metadata": {},
   "outputs": [
    {
     "name": "stdout",
     "output_type": "stream",
     "text": [
      "TCLab version 0.4.9\n",
      "Arduino Leonardo connected on port /dev/cu.usbmodem142101 at 115200 baud.\n",
      "TCLab Firmware 1.5.1 Arduino Leonardo/Micro.\n",
      "Temperature 1: 23.16 C\n",
      "Temperature 2: 22.52 C\n",
      "TCLab disconnected successfully.\n"
     ]
    }
   ],
   "source": [
    "from tclab import TCLab\n",
    "\n",
    "with TCLab() as lab:\n",
    "    print(\"Temperature 1: {0:0.2f} C\".format(lab.T1))\n",
    "    print(\"Temperature 2: {0:0.2f} C\".format(lab.T2))"
   ]
  },
  {
   "cell_type": "markdown",
   "metadata": {},
   "source": [
    "### 4. Turn the heaters on and off"
   ]
  },
  {
   "cell_type": "code",
   "execution_count": 17,
   "metadata": {},
   "outputs": [
    {
     "name": "stdout",
     "output_type": "stream",
     "text": [
      "TCLab version 0.4.9\n",
      "Arduino Leonardo connected on port /dev/cu.usbmodem142101 at 115200 baud.\n",
      "TCLab Firmware 1.5.1 Arduino Leonardo/Micro.\n",
      "\n",
      "Starting Temperature 1: 20.26 C\n",
      "Starting Temperature 2: 20.26 C\n",
      "\n",
      "Set Heater 1: 100.0 %\n",
      "Set Heater 2: 100.0 %\n",
      "\n",
      "Heat for 30 seconds\n",
      "\n",
      "Set Heater 1: 0.0 %\n",
      "Set Heater 2: 0.0 %\n",
      "\n",
      "Final Temperature 1: 20.26 C\n",
      "Final Temperature 2: 20.26 C\n",
      "\n",
      "TCLab disconnected successfully.\n"
     ]
    }
   ],
   "source": [
    "from tclab import TCLab\n",
    "import time\n",
    "\n",
    "with TCLab() as lab:\n",
    "    print()\n",
    "    print(\"Starting Temperature 1: {0:0.2f} C\".format(lab.T1), flush=True)\n",
    "    print(\"Starting Temperature 2: {0:0.2f} C\".format(lab.T2), flush=True)\n",
    "    \n",
    "    print()\n",
    "    print(\"Set Heater 1:\", lab.Q1(100), \"%\", flush=True)\n",
    "    print(\"Set Heater 2:\", lab.Q2(100), \"%\", flush=True)\n",
    "    \n",
    "    t_heat = 30\n",
    "    print()\n",
    "    print(\"Heat for\", t_heat, \"seconds\")\n",
    "    time.sleep(t_heat)\n",
    "\n",
    "    print()\n",
    "    print(\"Set Heater 1:\", lab.Q1(0), \"%\",flush=True)\n",
    "    print(\"Set Heater 2:\", lab.Q2(0), \"%\",flush=True)\n",
    "    \n",
    "    print()\n",
    "    print(\"Final Temperature 1: {0:0.2f} C\".format(lab.T1))\n",
    "    print(\"Final Temperature 2: {0:0.2f} C\".format(lab.T2))\n",
    "    print()"
   ]
  },
  {
   "cell_type": "markdown",
   "metadata": {},
   "source": [
    "## Synchronizing operation with the wall clock using `clock`"
   ]
  },
  {
   "cell_type": "markdown",
   "metadata": {},
   "source": [
    "### 1. Use `clock` iterator"
   ]
  },
  {
   "cell_type": "code",
   "execution_count": 12,
   "metadata": {},
   "outputs": [
    {
     "name": "stdout",
     "output_type": "stream",
     "text": [
      "TCLab version 0.4.9\n",
      "Arduino Leonardo connected on port /dev/cu.usbmodem142101 at 115200 baud.\n",
      "TCLab Firmware 1.5.1 Arduino Leonardo/Micro.\n",
      "\n",
      "Set Heater 1 to 100.0 %\n",
      "Set Heater 2 to 100.0 %\n",
      "\n",
      "     0.0 sec:   T1 = 22.8 C    T2 = 22.5 C\n",
      "     1.0 sec:   T1 = 22.8 C    T2 = 22.2 C\n",
      "     2.0 sec:   T1 = 23.2 C    T2 = 22.5 C\n",
      "     3.0 sec:   T1 = 22.8 C    T2 = 22.5 C\n",
      "     4.0 sec:   T1 = 22.8 C    T2 = 22.5 C\n",
      "     5.0 sec:   T1 = 23.2 C    T2 = 22.5 C\n",
      "     6.0 sec:   T1 = 22.8 C    T2 = 22.5 C\n",
      "     7.0 sec:   T1 = 22.8 C    T2 = 22.5 C\n",
      "     8.0 sec:   T1 = 22.8 C    T2 = 22.5 C\n",
      "     9.0 sec:   T1 = 23.2 C    T2 = 22.5 C\n",
      "    10.0 sec:   T1 = 22.8 C    T2 = 22.5 C\n",
      "    11.0 sec:   T1 = 23.2 C    T2 = 22.5 C\n",
      "    12.0 sec:   T1 = 22.8 C    T2 = 22.5 C\n",
      "    13.0 sec:   T1 = 23.2 C    T2 = 22.5 C\n",
      "    14.0 sec:   T1 = 22.8 C    T2 = 22.5 C\n",
      "    15.0 sec:   T1 = 22.8 C    T2 = 22.5 C\n",
      "    16.0 sec:   T1 = 22.8 C    T2 = 22.5 C\n",
      "    17.0 sec:   T1 = 23.2 C    T2 = 22.5 C\n",
      "    18.0 sec:   T1 = 22.8 C    T2 = 22.5 C\n",
      "    19.0 sec:   T1 = 22.8 C    T2 = 22.5 C\n",
      "    20.0 sec:   T1 = 23.2 C    T2 = 22.5 C\n",
      "\n",
      "TCLab disconnected successfully.\n"
     ]
    }
   ],
   "source": [
    "from tclab import TCLab, clock\n",
    "\n",
    "tperiod = 20\n",
    "\n",
    "# connect to the temperature control lab\n",
    "with TCLab() as lab:\n",
    "    # turn heaters on\n",
    "    print()\n",
    "    print(\"Set Heater 1 to {0:0.1f} %\".format(lab.Q1(100)))\n",
    "    print(\"Set Heater 2 to {0:0.1f} %\".format(lab.Q2(100)))\n",
    "\n",
    "    # report temperatures for the next tperiod seconds\n",
    "    print()\n",
    "    for t in clock(tperiod):\n",
    "        print(\"   {0:5.1f} sec:   T1 = {1:0.1f} C    T2 = {2:0.1f} C\".format(t, lab.T1, lab.T2), flush=True)\n",
    "\n",
    "    print()"
   ]
  },
  {
   "cell_type": "code",
   "execution_count": null,
   "metadata": {},
   "outputs": [],
   "source": []
  }
 ],
 "metadata": {
  "kernelspec": {
   "display_name": "Python 3",
   "language": "python",
   "name": "python3"
  },
  "language_info": {
   "codemirror_mode": {
    "name": "ipython",
    "version": 3
   },
   "file_extension": ".py",
   "mimetype": "text/x-python",
   "name": "python",
   "nbconvert_exporter": "python",
   "pygments_lexer": "ipython3",
   "version": "3.7.4"
  }
 },
 "nbformat": 4,
 "nbformat_minor": 4
}
