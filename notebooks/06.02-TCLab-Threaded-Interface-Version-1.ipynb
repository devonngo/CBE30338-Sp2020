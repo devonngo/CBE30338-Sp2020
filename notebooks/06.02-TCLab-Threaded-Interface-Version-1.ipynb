{
 "cells": [
  {
   "cell_type": "markdown",
   "metadata": {},
   "source": [
    "# TCLab PCR Prototype Version 1\n",
    "\n",
    "* **Feedforward Control** Feedforward control of the TCLab using a steady-state model.\n",
    "* **Integrating Feedforward and Feedback Control** Improving setpoint response by adding feedback control.\n",
    "* **Adding Constraints** Adding constrained optimization to the feedforward control calculations\n",
    "* **Dynamic Setpoint Tracking** Tracking a desired temperature profile."
   ]
  },
  {
   "cell_type": "markdown",
   "metadata": {},
   "source": [
    "## Feedforward Control"
   ]
  },
  {
   "cell_type": "code",
   "execution_count": 2,
   "metadata": {
    "scrolled": false
   },
   "outputs": [
    {
     "data": {
      "application/vnd.jupyter.widget-view+json": {
       "model_id": "50e078248b64410ba9fb5a559b8bb02f",
       "version_major": 2,
       "version_minor": 0
      },
      "text/plain": [
       "HBox(children=(Button(button_style='success', description='Start', style=ButtonStyle()), Button(description='S…"
      ]
     },
     "metadata": {},
     "output_type": "display_data"
    },
    {
     "data": {
      "application/vnd.jupyter.widget-view+json": {
       "model_id": "db74d0b27a254992a717addec864a73a",
       "version_major": 2,
       "version_minor": 0
      },
      "text/plain": [
       "HBox(children=(FloatSlider(value=50.0, description='Setpoint 1', max=120.0, step=1.0), FloatSlider(value=50.0,…"
      ]
     },
     "metadata": {},
     "output_type": "display_data"
    },
    {
     "data": {
      "application/vnd.jupyter.widget-view+json": {
       "model_id": "dc29aee82cc44a0d9bceebbe268db868",
       "version_major": 2,
       "version_minor": 0
      },
      "text/plain": [
       "Output(layout=Layout(height='450px'))"
      ]
     },
     "metadata": {},
     "output_type": "display_data"
    },
    {
     "name": "stdout",
     "output_type": "stream",
     "text": [
      "Data saved to data/data_20204328T104300.csv\n",
      "TCLab Model disconnected successfully.\n"
     ]
    }
   ],
   "source": [
    "%matplotlib inline\n",
    "\n",
    "from IPython.display import display\n",
    "import ipywidgets as widgets\n",
    "import tclab\n",
    "import threading\n",
    "import datetime\n",
    "\n",
    "# parameter values\n",
    "Ua = 0.0250\n",
    "Ub = 0.0105\n",
    "Ta = 22\n",
    "\n",
    "def feedforward(SP1, SP2, Ta):\n",
    "    Q1 = Ua*(SP1 - Ta) + Ub*(SP1 - SP2)\n",
    "    Q2 = Ua*(SP2 - Ta) + Ub*(SP2 - SP1)\n",
    "    return [Q1, Q2]\n",
    "\n",
    "TCLab = tclab.setup(connected=False, speedup=5)\n",
    "\n",
    "def work(output, stop, setpoint1, setpoint2):\n",
    "    with output:\n",
    "        with TCLab() as lab:\n",
    "\n",
    "            # pre-run\n",
    "            lab.P1 = 255\n",
    "            lab.P2 = 255\n",
    "            sources = [\n",
    "                ('T1', lambda: lab.T1),\n",
    "                ('T2', lambda: lab.T2),\n",
    "                ('U1', lambda: lab.U1),\n",
    "                ('U2', lambda: lab.U2),\n",
    "                ('SP1', lambda: setpoint1.value),\n",
    "                ('SP2', lambda: setpoint2.value)\n",
    "            ]\n",
    "            h = tclab.Historian(sources)\n",
    "            p = tclab.Plotter(h, 1200, layout=(('T1', 'SP1'), ('T2', 'SP2'),('U1','U2')))\n",
    "\n",
    "            # run\n",
    "            for t in tclab.clock(10000, 5):\n",
    "                Q1_ff, Q2_ff = feedforward(setpoint1.value, setpoint2.value, Ta)\n",
    "                lab.U1 = max(0, min(100, 100*Q1_ff/lab.P1/0.013))\n",
    "                lab.U2 = max(0, min(100, 100*Q2_ff/lab.P2/0.013))\n",
    "                p.update(t)\n",
    "                if stop.value:\n",
    "                    break\n",
    "\n",
    "            # post-run\n",
    "            fname = datetime.datetime.now().strftime(\"data/data_%Y%M%dT%H%M%S.csv\")\n",
    "            h.to_csv(fname)\n",
    "            print(\"Data saved to\", fname)\n",
    "\n",
    "# widgets\n",
    "start = widgets.Button(description=\"Start\", button_style=\"success\")\n",
    "stop = widgets.Button(description=\"Stop\", button_style=\"\")\n",
    "setpoint1 = widgets.FloatSlider(value=50, min=0, max=120, step=1, description=\"Setpoint 1\")\n",
    "setpoint2 = widgets.FloatSlider(value=50, min=0, max=120, step=1, description=\"Setpoint 2\")\n",
    "output = widgets.Output(layout={'height': '450px'})\n",
    "\n",
    "# thread\n",
    "thread = threading.Thread(target=work, args=(output, stop, setpoint1, setpoint2))\n",
    "\n",
    "# actions\n",
    "def start_button_clicked(b):\n",
    "    stop.value = False\n",
    "    start.button_style = \"\"\n",
    "    stop.button_style=\"success\"\n",
    "    thread.start()\n",
    "start.on_click(start_button_clicked)\n",
    "\n",
    "def stop_button_clicked(b):\n",
    "    stop.value = True\n",
    "    stop.button_style = \"\"\n",
    "    thread.join()\n",
    "stop.on_click(stop_button_clicked)\n",
    "\n",
    "# START THINGS UP\n",
    "display(widgets.HBox([start, stop]))\n",
    "display(widgets.HBox([setpoint1, setpoint2]))\n",
    "display(output)"
   ]
  },
  {
   "cell_type": "markdown",
   "metadata": {},
   "source": [
    "## Integrating Feedforward and Feedback Control"
   ]
  },
  {
   "cell_type": "code",
   "execution_count": 4,
   "metadata": {
    "scrolled": false
   },
   "outputs": [
    {
     "data": {
      "image/png": "[encoded data removed]",
      "text/plain": [
       "<Figure size 640x360 with 3 Axes>"
      ]
     },
     "metadata": {},
     "output_type": "display_data"
    },
    {
     "name": "stdout",
     "output_type": "stream",
     "text": [
      "Data saved to data/data_20204428T104430.csv\n",
      "TCLab Model disconnected successfully.\n"
     ]
    }
   ],
   "source": [
    "%matplotlib inline\n",
    "\n",
    "from IPython.display import display\n",
    "import ipywidgets as widgets\n",
    "import tclab\n",
    "import threading\n",
    "import datetime\n",
    "\n",
    "# parameter values\n",
    "Ua = 0.0250\n",
    "Ub = 0.0105\n",
    "Ta = 22\n",
    "\n",
    "def feedforward(SP1, SP2, Ta):\n",
    "    Q1 = Ua*(SP1 - Ta) + Ub*(SP1 - SP2)\n",
    "    Q2 = Ua*(SP2 - Ta) + Ub*(SP2 - SP1)\n",
    "    return [Q1, Q2]\n",
    "\n",
    "def relay(MV_hi, MV_lo=0, h=1):\n",
    "    MV = (MV_hi + MV_lo)/2\n",
    "    while True:  \n",
    "        SP, PV = yield MV      \n",
    "        MV_prev = MV\n",
    "        MV = MV_hi if PV < (SP - h) else MV_lo if PV > (SP + h) else MV_prev\n",
    "\n",
    "TCLab = tclab.setup(connected=False, speedup=5)\n",
    "\n",
    "def work(output, stop, setpoint1, setpoint2):\n",
    "    with output:\n",
    "        with TCLab() as lab:\n",
    "\n",
    "            # pre-run\n",
    "            lab.P1 = 255\n",
    "            lab.P2 = 255\n",
    "            sources = [\n",
    "                ('T1', lambda: lab.T1),\n",
    "                ('T2', lambda: lab.T2),\n",
    "                ('U1', lambda: lab.U1),\n",
    "                ('U2', lambda: lab.U2),\n",
    "                ('SP1', lambda: setpoint1.value),\n",
    "                ('SP2', lambda: setpoint2.value)\n",
    "            ]\n",
    "            h = tclab.Historian(sources)\n",
    "            p = tclab.Plotter(h, 1200, layout=(('T1', 'SP1'), ('T2', 'SP2'),('U1','U2')))\n",
    "            feedback1 = relay(1, -1)\n",
    "            _ = feedback1.send(None)\n",
    "            feedback2 = relay(1, -1)\n",
    "            _ = feedback2.send(None)\n",
    "\n",
    "            # run\n",
    "            for t in tclab.clock(10000, 5):\n",
    "                Q1_ff, Q2_ff = feedforward(setpoint1.value, setpoint2.value, Ta)\n",
    "                Q1_fb = feedback1.send([setpoint1.value, lab.T1])\n",
    "                Q2_fb = feedback2.send([setpoint2.value, lab.T2])\n",
    "                lab.U1 = max(0, min(100, 100*(Q1_ff + Q1_fb)/lab.P1/0.013))\n",
    "                lab.U2 = max(0, min(100, 100*(Q2_ff + Q2_fb)/lab.P2/0.013))\n",
    "                p.update(t)\n",
    "                if stop.value:\n",
    "                    break\n",
    "\n",
    "            # post-run\n",
    "            fname = datetime.datetime.now().strftime(\"data/data_%Y%M%dT%H%M%S.csv\")\n",
    "            h.to_csv(fname)\n",
    "            print(\"Data saved to\", fname)\n",
    "\n",
    "# widgets\n",
    "start = widgets.Button(description=\"Start\", button_style=\"success\")\n",
    "stop = widgets.Button(description=\"Stop\", button_style=\"\")\n",
    "setpoint1 = widgets.FloatSlider(value=50, min=0, max=120, step=1, description=\"Setpoint 1\")\n",
    "setpoint2 = widgets.FloatSlider(value=50, min=0, max=120, step=1, description=\"Setpoint 2\")\n",
    "output = widgets.Output(layout={'height': '450px'})\n",
    "\n",
    "# thread\n",
    "thread = threading.Thread(target=work, args=(output, stop, setpoint1, setpoint2))\n",
    "\n",
    "# actions\n",
    "def start_button_clicked(b):\n",
    "    stop.value = False\n",
    "    start.button_style = \"\"\n",
    "    stop.button_style=\"success\"\n",
    "    thread.start()\n",
    "start.on_click(start_button_clicked)\n",
    "\n",
    "def stop_button_clicked(b):\n",
    "    stop.value = True\n",
    "    stop.button_style = \"\"\n",
    "    thread.join()\n",
    "stop.on_click(stop_button_clicked)\n",
    "\n",
    "# START THINGS UP\n",
    "display(widgets.HBox([start, stop]))\n",
    "display(widgets.HBox([setpoint1, setpoint2]))\n",
    "display(output)"
   ]
  },
  {
   "cell_type": "markdown",
   "metadata": {},
   "source": [
    "## Steady State Control with Constraints"
   ]
  },
  {
   "cell_type": "code",
   "execution_count": 5,
   "metadata": {},
   "outputs": [
    {
     "data": {
      "text/plain": [
       "(2.462, 0.43800000000000017, 100.0, 56.0)"
      ]
     },
     "execution_count": 5,
     "metadata": {},
     "output_type": "execute_result"
    }
   ],
   "source": [
    "import numpy as np\n",
    "import scipy.optimize\n",
    "\n",
    "# decision variables Q1, Q2, T1, T2, z1p, z1m, z2p, z2m\n",
    "\n",
    "Q_ps = 10\n",
    "Q1_max = 3.3\n",
    "Q2_max = 3.3\n",
    "T_ub = 100\n",
    "\n",
    "def feedforward_lp(SP1, SP2, Ta=20):\n",
    "    c = np.array([0, 0, 0, 0, 1, 1, 1, 1])\n",
    "    A_ub = np.array([\n",
    "        [1, 1, 0, 0, 0, 0, 0, 0]\n",
    "    ])\n",
    "    b_ub = np.array([Q_ps])\n",
    "    A_eq = np.array([\n",
    "        [-1, 0, (Ua + Ub), -Ub, 0, 0, 0, 0],\n",
    "        [0, -1, -Ub, (Ua + Ub), 0, 0, 0, 0],\n",
    "        [0, 0, 1, 0, -1, 1, 0, 0],\n",
    "        [0, 0, 0, 1, 0, 0, -1, 1]\n",
    "    ])\n",
    "    b_eq = np.array([Ua*Ta, Ua*Ta, SP1, SP2])\n",
    "    bounds = [(0, Q1_max), (0, Q2_max), (Ta, T_ub), (Ta, T_ub), (0, None), (0, None), (0, None), (0, None)]\n",
    "    results = scipy.optimize.linprog(c, A_ub, b_ub, A_eq, b_eq, bounds)\n",
    "    Q1, Q2, T1, T2, _, _, _, _ = results.x\n",
    "    return [Q1, Q2, T1, T2]\n",
    "\n",
    "Q1, Q2, T1, T2 = feedforward_lp(103, 56)\n",
    "Q1, Q2, T1, T2"
   ]
  },
  {
   "cell_type": "code",
   "execution_count": 6,
   "metadata": {},
   "outputs": [
    {
     "data": {
      "application/vnd.jupyter.widget-view+json": {
       "model_id": "9190c5485f11402c9e2c6a2da9fa8e23",
       "version_major": 2,
       "version_minor": 0
      },
      "text/plain": [
       "HBox(children=(Button(button_style='success', description='Start', style=ButtonStyle()), Button(description='S…"
      ]
     },
     "metadata": {},
     "output_type": "display_data"
    },
    {
     "data": {
      "application/vnd.jupyter.widget-view+json": {
       "model_id": "03b1ff1d8ed04b0d92067bdc4895f6d5",
       "version_major": 2,
       "version_minor": 0
      },
      "text/plain": [
       "HBox(children=(FloatSlider(value=50.0, description='Setpoint 1', max=120.0, step=1.0), FloatSlider(value=50.0,…"
      ]
     },
     "metadata": {},
     "output_type": "display_data"
    },
    {
     "data": {
      "application/vnd.jupyter.widget-view+json": {
       "model_id": "176de69e72544000bb1e13b7121a9780",
       "version_major": 2,
       "version_minor": 0
      },
      "text/plain": [
       "Output(layout=Layout(height='450px'))"
      ]
     },
     "metadata": {},
     "output_type": "display_data"
    },
    {
     "name": "stdout",
     "output_type": "stream",
     "text": [
      "Data saved to data_20204628T104614.csv\n",
      "TCLab Model disconnected successfully.\n"
     ]
    }
   ],
   "source": [
    "%matplotlib inline\n",
    "\n",
    "from IPython.display import display\n",
    "import ipywidgets as widgets\n",
    "import tclab\n",
    "import threading\n",
    "import datetime\n",
    "\n",
    "# parameter values\n",
    "Ua = 0.0250\n",
    "Ub = 0.0105\n",
    "Ta = 22\n",
    "\n",
    "def feedforward(SP1, SP2, Ta):\n",
    "    Q1 = Ua*(SP1 - Ta) + Ub*(SP1 - SP2)\n",
    "    Q2 = Ua*(SP2 - Ta) + Ub*(SP2 - SP1)\n",
    "    return [Q1, Q2]\n",
    "\n",
    "def relay(MV_hi, MV_lo=0, h=1):\n",
    "    MV = (MV_hi + MV_lo)/2\n",
    "    while True:  \n",
    "        SP, PV = yield MV      \n",
    "        MV_prev = MV\n",
    "        MV = MV_hi if PV < (SP - h) else MV_lo if PV > (SP + h) else MV_prev\n",
    "\n",
    "TCLab = tclab.setup(connected=False, speedup=5)\n",
    "\n",
    "def work(output, stop, setpoint1, setpoint2):\n",
    "    with output:\n",
    "        with TCLab() as lab:\n",
    "\n",
    "            # pre-run\n",
    "            lab.P1 = 255\n",
    "            lab.P2 = 255\n",
    "            sources = [\n",
    "                ('T1', lambda: lab.T1),\n",
    "                ('T2', lambda: lab.T2),\n",
    "                ('U1', lambda: lab.U1),\n",
    "                ('U2', lambda: lab.U2),\n",
    "                ('SP1', lambda: setpoint1.value),\n",
    "                ('SP2', lambda: setpoint2.value),\n",
    "                ('T1_ff', lambda: T1_ff),\n",
    "                ('T2_ff', lambda: T2_ff)\n",
    "            ]\n",
    "            h = tclab.Historian(sources)\n",
    "            p = tclab.Plotter(h, 1200, layout=(('T1', 'SP1', 'T1_ff'), ('T2', 'SP2','T2_ff'),('U1','U2')))\n",
    "            feedback1 = relay(1, -1)\n",
    "            _ = feedback1.send(None)\n",
    "            feedback2 = relay(1, -1)\n",
    "            _ = feedback2.send(None)\n",
    "\n",
    "            # run\n",
    "            for t in tclab.clock(10000, 5):\n",
    "                Q1_ff, Q2_ff, T1_ff, T2_ff = feedforward_lp(setpoint1.value, setpoint2.value, Ta)\n",
    "                Q1_fb = feedback1.send([T1_ff, lab.T1])\n",
    "                Q2_fb = feedback2.send([T2_ff, lab.T2])\n",
    "                lab.U1 = max(0, min(100, 100*(Q1_ff + Q1_fb)/lab.P1/0.013))\n",
    "                lab.U2 = max(0, min(100, 100*(Q2_ff + Q2_fb)/lab.P2/0.013))\n",
    "                p.update(t)\n",
    "                if stop.value:\n",
    "                    break\n",
    "\n",
    "            # post-run\n",
    "            fname = datetime.datetime.now().strftime(\"data_%Y%M%dT%H%M%S.csv\")\n",
    "            h.to_csv(fname)\n",
    "            print(\"Data saved to\", fname)\n",
    "\n",
    "# widgets\n",
    "start = widgets.Button(description=\"Start\", button_style=\"success\")\n",
    "stop = widgets.Button(description=\"Stop\", button_style=\"\")\n",
    "setpoint1 = widgets.FloatSlider(value=50, min=0, max=120, step=1, description=\"Setpoint 1\")\n",
    "setpoint2 = widgets.FloatSlider(value=50, min=0, max=120, step=1, description=\"Setpoint 2\")\n",
    "output = widgets.Output(layout={'height': '450px'})\n",
    "\n",
    "# thread\n",
    "thread = threading.Thread(target=work, args=(output, stop, setpoint1, setpoint2))\n",
    "\n",
    "# actions\n",
    "def start_button_clicked(b):\n",
    "    stop.value = False\n",
    "    start.button_style = \"\"\n",
    "    stop.button_style=\"success\"\n",
    "    thread.start()\n",
    "start.on_click(start_button_clicked)\n",
    "\n",
    "def stop_button_clicked(b):\n",
    "    stop.value = True\n",
    "    stop.button_style = \"\"\n",
    "    thread.join()\n",
    "stop.on_click(stop_button_clicked)\n",
    "\n",
    "# START THINGS UP\n",
    "display(widgets.HBox([start, stop]))\n",
    "display(widgets.HBox([setpoint1, setpoint2]))\n",
    "display(output)"
   ]
  },
  {
   "cell_type": "markdown",
   "metadata": {},
   "source": [
    "## Setpoint Tracking"
   ]
  },
  {
   "cell_type": "code",
   "execution_count": 8,
   "metadata": {},
   "outputs": [
    {
     "data": {
      "image/png": "[encoded data removed]",
      "text/plain": [
       "<Figure size 540x180 with 2 Axes>"
      ]
     },
     "metadata": {
      "needs_background": "light"
     },
     "output_type": "display_data"
    }
   ],
   "source": [
    "import glob\n",
    "import matplotlib.pyplot as plt\n",
    "import pandas as pd\n",
    "\n",
    "def get_data(file1, file2):\n",
    "    fig, ax = plt.subplots(1,2, figsize=(7.5,2.5))\n",
    "    if file1:\n",
    "        df1 = pd.read_csv(file1)\n",
    "        ax[0].plot(df1['tp'], df1['Tp'], 'b')\n",
    "    if file2:\n",
    "        df2 = pd.read_csv(file2)\n",
    "        ax[0].plot(df2['tp'], df2['Tp'], 'r')\n",
    "    ax[0].grid(True)\n",
    "    if file1 and file2:\n",
    "        tmax = max(df1['tp'].max(), df2['tp'].max())\n",
    "        t = np.linspace(0, tmax, int(tmax+1))\n",
    "        u1 = lambda t: np.interp(t, df1['tp'].to_numpy(), df1['Tp'].to_numpy())\n",
    "        u2 = lambda t: np.interp(t, df2['tp'].to_numpy(), df2['Tp'].to_numpy())\n",
    "        ax[1].plot(u1(t), u2(t))\n",
    "        ax[1].axis('square')\n",
    "        return u1, u2\n",
    "\n",
    "u1, u2 = get_data('pcr/pcr1.csv', 'pcr/pcr2.csv')"
   ]
  },
  {
   "cell_type": "code",
   "execution_count": 9,
   "metadata": {},
   "outputs": [
    {
     "data": {
      "image/png": "[encoded data removed]",
      "text/plain": [
       "<Figure size 640x360 with 3 Axes>"
      ]
     },
     "metadata": {},
     "output_type": "display_data"
    },
    {
     "name": "stdout",
     "output_type": "stream",
     "text": [
      "Data saved to data_20204728T104745.csv\n",
      "TCLab Model disconnected successfully.\n"
     ]
    }
   ],
   "source": [
    "%matplotlib inline\n",
    "\n",
    "from IPython.display import display\n",
    "import ipywidgets as widgets\n",
    "import tclab\n",
    "import threading\n",
    "import datetime\n",
    "\n",
    "# parameter values\n",
    "Ua = 0.0250\n",
    "Ub = 0.0105\n",
    "Ta = 22\n",
    "\n",
    "def feedforward(SP1, SP2, Ta):\n",
    "    Q1 = Ua*(SP1 - Ta) + Ub*(SP1 - SP2)\n",
    "    Q2 = Ua*(SP2 - Ta) + Ub*(SP2 - SP1)\n",
    "    return [Q1, Q2]\n",
    "\n",
    "def relay(MV_hi, MV_lo=0, h=1):\n",
    "    MV = (MV_hi + MV_lo)/2\n",
    "    while True:  \n",
    "        SP, PV = yield MV      \n",
    "        MV_prev = MV\n",
    "        MV = MV_hi if PV < (SP - h) else MV_lo if PV > (SP + h) else MV_prev\n",
    "\n",
    "TCLab = tclab.setup(connected=False, speedup=5)\n",
    "\n",
    "def work(output, stop, setpoint1, setpoint2):\n",
    "    with output:\n",
    "        with TCLab() as lab:\n",
    "\n",
    "            # pre-run\n",
    "            lab.P1 = 255\n",
    "            lab.P2 = 255\n",
    "            sources = [\n",
    "                ('T1', lambda: lab.T1),\n",
    "                ('T2', lambda: lab.T2),\n",
    "                ('U1', lambda: lab.U1),\n",
    "                ('U2', lambda: lab.U2),\n",
    "                ('SP1', lambda: setpoint1.value),\n",
    "                ('SP2', lambda: setpoint2.value),\n",
    "                ('T1_ff', lambda: T1_ff),\n",
    "                ('T2_ff', lambda: T2_ff)\n",
    "            ]\n",
    "            h = tclab.Historian(sources)\n",
    "            p = tclab.Plotter(h, 1200, layout=(('T1', 'SP1', 'T1_ff'), ('T2', 'SP2','T2_ff'),('U1','U2')))\n",
    "            feedback1 = relay(1, -1)\n",
    "            _ = feedback1.send(None)\n",
    "            feedback2 = relay(1, -1)\n",
    "            _ = feedback2.send(None)\n",
    "\n",
    "            # run\n",
    "            for t in tclab.clock(10000, 5):\n",
    "                Q1_ff, Q2_ff, T1_ff, T2_ff = feedforward_lp(u1(t), u2(t), Ta)\n",
    "                Q1_fb = feedback1.send([T1_ff, lab.T1])\n",
    "                Q2_fb = feedback2.send([T2_ff, lab.T2])\n",
    "                lab.U1 = max(0, min(100, 100*(Q1_ff + Q1_fb)/lab.P1/0.013))\n",
    "                lab.U2 = max(0, min(100, 100*(Q2_ff + Q2_fb)/lab.P2/0.013))\n",
    "                p.update(t)\n",
    "                if stop.value:\n",
    "                    break\n",
    "\n",
    "            # post-run\n",
    "            fname = datetime.datetime.now().strftime(\"data_%Y%M%dT%H%M%S.csv\")\n",
    "            h.to_csv(fname)\n",
    "            print(\"Data saved to\", fname)\n",
    "\n",
    "# widgets\n",
    "start = widgets.Button(description=\"Start\", button_style=\"success\")\n",
    "stop = widgets.Button(description=\"Stop\", button_style=\"\")\n",
    "setpoint1 = widgets.FloatSlider(value=50, min=0, max=120, step=1, description=\"Setpoint 1\")\n",
    "setpoint2 = widgets.FloatSlider(value=50, min=0, max=120, step=1, description=\"Setpoint 2\")\n",
    "output = widgets.Output(layout={'height': '450px'})\n",
    "\n",
    "# thread\n",
    "thread = threading.Thread(target=work, args=(output, stop, setpoint1, setpoint2))\n",
    "\n",
    "# actions\n",
    "def start_button_clicked(b):\n",
    "    stop.value = False\n",
    "    start.button_style = \"\"\n",
    "    stop.button_style=\"success\"\n",
    "    thread.start()\n",
    "start.on_click(start_button_clicked)\n",
    "\n",
    "def stop_button_clicked(b):\n",
    "    stop.value = True\n",
    "    stop.button_style = \"\"\n",
    "    thread.join()\n",
    "stop.on_click(stop_button_clicked)\n",
    "\n",
    "# START THINGS UP\n",
    "display(widgets.HBox([start, stop]))\n",
    "display(widgets.HBox([setpoint1, setpoint2]))\n",
    "display(output)"
   ]
  },
  {
   "cell_type": "code",
   "execution_count": null,
   "metadata": {},
   "outputs": [],
   "source": []
  }
 ],
 "metadata": {
  "kernelspec": {
   "display_name": "Python 3",
   "language": "python",
   "name": "python3"
  },
  "language_info": {
   "codemirror_mode": {
    "name": "ipython",
    "version": 3
   },
   "file_extension": ".py",
   "mimetype": "text/x-python",
   "name": "python",
   "nbconvert_exporter": "python",
   "pygments_lexer": "ipython3",
   "version": "3.7.4"
  }
 },
 "nbformat": 4,
 "nbformat_minor": 2
}
